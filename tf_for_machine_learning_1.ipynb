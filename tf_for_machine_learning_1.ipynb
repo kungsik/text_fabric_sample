{
 "cells": [
  {
   "cell_type": "code",
   "execution_count": 1,
   "metadata": {
    "scrolled": true
   },
   "outputs": [
    {
     "name": "stdout",
     "output_type": "stream",
     "text": [
      "This is Text-Fabric 2.3.7\n",
      "Api reference : https://github.com/ETCBC/text-fabric/wiki/Api\n",
      "Tutorial      : https://github.com/ETCBC/text-fabric/blob/master/docs/tutorial.ipynb\n",
      "Data sources  : https://github.com/ETCBC/text-fabric-data\n",
      "Data docs     : https://etcbc.github.io/text-fabric-data\n",
      "Shebanq docs  : https://shebanq.ancient-data.org/text\n",
      "Slack team    : https://shebanq.slack.com/signup\n",
      "Questions? Ask shebanq@ancient-data.org for an invite to Slack\n",
      "111 features found and 0 ignored\n",
      "  0.00s loading features ...\n",
      "   |     0.04s B otype                from /home/kungsik/github/text-fabric-data/hebrew/etcbc4c\n",
      "   |     0.01s B book                 from /home/kungsik/github/text-fabric-data/hebrew/etcbc4c\n",
      "   |     0.01s B chapter              from /home/kungsik/github/text-fabric-data/hebrew/etcbc4c\n",
      "   |     0.00s B verse                from /home/kungsik/github/text-fabric-data/hebrew/etcbc4c\n",
      "   |     0.13s B lex_utf8             from /home/kungsik/github/text-fabric-data/hebrew/etcbc4c\n",
      "   |     0.09s B sp                   from /home/kungsik/github/text-fabric-data/hebrew/etcbc4c\n",
      "   |     0.10s B nu                   from /home/kungsik/github/text-fabric-data/hebrew/etcbc4c\n",
      "   |     0.09s B gn                   from /home/kungsik/github/text-fabric-data/hebrew/etcbc4c\n",
      "   |     0.10s B ps                   from /home/kungsik/github/text-fabric-data/hebrew/etcbc4c\n",
      "   |     0.10s B vt                   from /home/kungsik/github/text-fabric-data/hebrew/etcbc4c\n",
      "   |     0.10s B vs                   from /home/kungsik/github/text-fabric-data/hebrew/etcbc4c\n",
      "   |     0.08s B st                   from /home/kungsik/github/text-fabric-data/hebrew/etcbc4c\n",
      "   |     0.01s B gloss                from /home/kungsik/github/text-fabric-data/hebrew/etcbc4c\n",
      "   |     0.16s B typ                  from /home/kungsik/github/text-fabric-data/hebrew/etcbc4c\n",
      "   |     0.01s Feature overview: 104 for nodes; 5 for edges; 2 configs; 7 computed\n",
      "  5.01s All features loaded/computed - for details use loadLog()\n"
     ]
    }
   ],
   "source": [
    "from tf.fabric import Fabric\n",
    "import csv\n",
    "\n",
    "ETCBC = 'hebrew/etcbc4c'\n",
    "TF = Fabric( modules=ETCBC, silent=False )\n",
    "\n",
    "api = TF.load('''\n",
    "    book chapter verse\n",
    "    sp nu gn ps vt vs st\n",
    "    otype lex_utf8 \n",
    "    gloss typ\n",
    "''')"
   ]
  },
  {
   "cell_type": "code",
   "execution_count": 2,
   "metadata": {
    "collapsed": true
   },
   "outputs": [],
   "source": [
    "api.makeAvailableIn(globals())"
   ]
  },
  {
   "cell_type": "code",
   "execution_count": 15,
   "metadata": {},
   "outputs": [
    {
     "data": {
      "text/plain": [
       "1367572"
      ]
     },
     "execution_count": 15,
     "metadata": {},
     "output_type": "execute_result"
    }
   ],
   "source": [
    "chpNode = T.nodeFromSection(('2_Chronicles',))\n",
    "chpNode"
   ]
  },
  {
   "cell_type": "code",
   "execution_count": 16,
   "metadata": {
    "collapsed": true,
    "scrolled": true
   },
   "outputs": [],
   "source": [
    "wordNode = L.d(chpNode, otype='word')\n",
    "c = ''\n",
    "p = ''\n",
    "i = 0\n",
    "book = '2_chr'\n",
    "\n",
    "f = open('./' + book + '.csv','w')\n",
    "csvWriter = csv.writer(f)\n",
    "csvWriter.writerow(['book','lex','sp','vs','vt','ctyp','ptyp','gloss'])\n",
    "\n",
    "for n in wordNode:\n",
    "    sentenceNode = L.u(n, otype='sentence')\n",
    "    clauseNode = L.u(n, otype='clause')\n",
    "    phraseNode = L.u(n, otype='phrase')\n",
    "    \n",
    "    if i == 0:\n",
    "        clauseCode = F.typ.v(clauseNode[0])\n",
    "        phraseCode = F.typ.v(phraseNode[0])\n",
    "        \n",
    "    else: \n",
    "        if clauseNode[0] == c:\n",
    "            clauseCode = ''\n",
    "        else:    \n",
    "            clauseCode = F.typ.v(clauseNode[0])\n",
    "    \n",
    "        if phraseNode[0] == p:\n",
    "            phraseCode = ''\n",
    "        else: \n",
    "            phraseCode = F.typ.v(phraseNode[0])\n",
    "    \n",
    "    verbal_stem = F.vs.v(n)\n",
    "    verbal_tense = F.vt.v(n)\n",
    "    \n",
    "    if verbal_stem == 'NA':\n",
    "        verbal_stem = ''\n",
    "    \n",
    "    if verbal_tense == 'NA':\n",
    "        verbal_tense = ''\n",
    "        \n",
    "    csvWriter.writerow([book, F.lex_utf8.v(n),F.sp.v(n),verbal_stem,verbal_tense,clauseCode,phraseCode,F.gloss.v(L.u(n, otype='lex')[0])])\n",
    "        \n",
    "    #print('{}\\t{}\\t{}\\t{}\\t{}\\t{}\\t{}'.format(F.lex_utf8.v(n), F.sp.v(n), verbal_stem, verbal_tense, clauseCode, phraseCode, F.gloss.v(L.u(n, otype='lex')[0])))\n",
    "    \n",
    "    c = clauseNode[0]\n",
    "    p = phraseNode[0]\n",
    "    i = i + 1"
   ]
  },
  {
   "cell_type": "code",
   "execution_count": null,
   "metadata": {
    "collapsed": true
   },
   "outputs": [],
   "source": []
  }
 ],
 "metadata": {
  "kernelspec": {
   "display_name": "Python 3",
   "language": "python",
   "name": "python3"
  },
  "language_info": {
   "codemirror_mode": {
    "name": "ipython",
    "version": 3
   },
   "file_extension": ".py",
   "mimetype": "text/x-python",
   "name": "python",
   "nbconvert_exporter": "python",
   "pygments_lexer": "ipython3",
   "version": "3.5.2"
  }
 },
 "nbformat": 4,
 "nbformat_minor": 2
}
