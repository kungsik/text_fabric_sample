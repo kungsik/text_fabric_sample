{
 "cells": [
  {
   "cell_type": "markdown",
   "metadata": {},
   "source": [
    "## 성경 텍스트를 json으로 변환"
   ]
  },
  {
   "cell_type": "code",
   "execution_count": 28,
   "metadata": {
    "collapsed": true
   },
   "outputs": [],
   "source": [
    "#파일이름 입력\n",
    "txt = \"asv\"\n",
    "\n",
    "#txt파일의 창세기 제목 표시 형태를 표기.\n",
    "genesis = \"Gen.\"\n",
    "\n",
    "with open(txt + \".txt\") as file:\n",
    "    lines = []\n",
    "    for line in file:\n",
    "        # The rstrip method gets rid of the \"\\n\" at the end of each line\n",
    "        lines.append(line.rstrip().split(\" \"))"
   ]
  },
  {
   "cell_type": "markdown",
   "metadata": {},
   "source": [
    "## 성경책 이름 다음에 . 이 없는 텍스트의 경우"
   ]
  },
  {
   "cell_type": "code",
   "execution_count": 2,
   "metadata": {
    "collapsed": true
   },
   "outputs": [],
   "source": [
    "lastbook = ''\n",
    "currentchp = ''\n",
    "jsonstr = '['\n",
    "\n",
    "for verse in lines:\n",
    "    \n",
    "    i = len(verse)\n",
    "    if i < 2: continue\n",
    "    \n",
    "    verse[2:] = [' '.join(map(str,verse[2:]))]\n",
    "\n",
    "    currentbook = verse[0]\n",
    "    \n",
    "    if currentbook != lastbook and currentbook != genesis:\n",
    "        jsonstr += \"\\t\\t}\\n\\t}]\\n},\"\n",
    "    \n",
    "    if currentbook != lastbook:\n",
    "        jsonstr += \"\\n{\\n\"\n",
    "        jsonstr += \"\\t\\\"book\\\":\" + \"\\\"\" + currentbook + \"\\\"\" + \",\\n\" + \"\\t\\\"chapters\\\":[{\\n\"\n",
    "    \n",
    "    chpvrs = verse[1].split(\":\")\n",
    "    if chpvrs[0] != currentchp and chpvrs[0] != \"1\":\n",
    "        jsonstr += \"\\n\\t\\t\\t}\\n\\t\\t},\\n\\t\\t{\" \n",
    "    \n",
    "    if chpvrs[0] != currentchp or currentbook != lastbook: \n",
    "        jsonstr += \"\\t\\t\\\"\" + chpvrs[0] + \"\\\": {\\n\"\n",
    "    \n",
    "    if int(chpvrs[1]) > 1:\n",
    "        jsonstr += \", \\n\" \n",
    "    \n",
    "    jsonstr += \"\\t\\t\\t\\\"\" + chpvrs[1] + \"\\\"\" + \":\" + \"\\\"\" + verse[2] + \"\\\"\"\n",
    "    \n",
    "    lastbook = verse[0]\n",
    "    currentchp = chpvrs[0]\n",
    "\n",
    "jsonstr += \"\\n\\t\\t}\\n\\t}]\\n}\\n]\"\n",
    "    \n",
    "f = open(txt + \".json\", 'w')\n",
    "f.write(jsonstr)\n",
    "f.close()"
   ]
  },
  {
   "cell_type": "markdown",
   "metadata": {
    "collapsed": true
   },
   "source": [
    "## 성경책 이름 다음에 . 가 오거나 성경책 이름과 장/절 구분 사이에 공백이 없는 경우"
   ]
  },
  {
   "cell_type": "code",
   "execution_count": 29,
   "metadata": {},
   "outputs": [],
   "source": [
    "import re\n",
    "\n",
    "\n",
    "lastbook = ''\n",
    "currentchp = ''\n",
    "jsonstr = '['\n",
    "\n",
    "for verse in lines:\n",
    "      \n",
    "    i = len(verse)\n",
    "    if i < 2: continue\n",
    "    \n",
    "    verse[1:] = [' '.join(map(str,verse[1:]))]\n",
    "    \n",
    "    #파일 내용중에 . 으로 책/장절이 구분되지 않은 항목이 있어서 숫자, 문자로 배열 구분함.\n",
    "    bookchpvrs = re.split('(\\d+)',verse[0])\n",
    "    currentbook = bookchpvrs[0]\n",
    "    \n",
    "    if currentbook != lastbook and currentbook != genesis:\n",
    "        jsonstr += \"\\t\\t}\\n\\t}]\\n},\"\n",
    "    \n",
    "    if currentbook != lastbook:\n",
    "        jsonstr += \"\\n{\\n\"\n",
    "        jsonstr += \"\\t\\\"book\\\":\" + \"\\\"\" + currentbook + \"\\\"\" + \",\\n\" + \"\\t\\\"chapters\\\":[{\\n\"\n",
    "    \n",
    "    chpvrs[0] = bookchpvrs[1]\n",
    "    chpvrs[1] = bookchpvrs[3]\n",
    "    \n",
    "    if chpvrs[0] != currentchp and chpvrs[0] != \"1\":\n",
    "        jsonstr += \"\\n\\t\\t\\t}\\n\\t\\t},\\n\\t\\t{\" \n",
    "    \n",
    "    if chpvrs[0] != currentchp or currentbook != lastbook: \n",
    "        jsonstr += \"\\t\\t\\\"\" + chpvrs[0] + \"\\\": {\\n\"\n",
    "    \n",
    "    if int(chpvrs[1]) > 1:\n",
    "        jsonstr += \", \\n\" \n",
    "    \n",
    "    jsonstr += \"\\t\\t\\t\\\"\" + chpvrs[1] + \"\\\"\" + \":\" + \"\\\"\" + verse[1] + \"\\\"\"\n",
    "    \n",
    "    lastbook = bookchpvrs[0]\n",
    "    currentchp = chpvrs[0]\n",
    "\n",
    "jsonstr += \"\\n\\t\\t}\\n\\t}]\\n}\\n]\"\n",
    "    \n",
    "f = open(txt + \".json\", 'w')\n",
    "f.write(jsonstr)\n",
    "f.close()"
   ]
  },
  {
   "cell_type": "code",
   "execution_count": null,
   "metadata": {
    "collapsed": true
   },
   "outputs": [],
   "source": []
  }
 ],
 "metadata": {
  "kernelspec": {
   "display_name": "Python 3",
   "language": "python",
   "name": "python3"
  },
  "language_info": {
   "codemirror_mode": {
    "name": "ipython",
    "version": 3
   },
   "file_extension": ".py",
   "mimetype": "text/x-python",
   "name": "python",
   "nbconvert_exporter": "python",
   "pygments_lexer": "ipython3",
   "version": "3.5.2"
  }
 },
 "nbformat": 4,
 "nbformat_minor": 2
}
