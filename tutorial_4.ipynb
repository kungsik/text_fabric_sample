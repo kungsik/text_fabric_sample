{
 "cells": [
  {
   "cell_type": "markdown",
   "metadata": {},
   "source": [
    "### Text-Fabric Api 활용예제 4\n",
    "### 각 단어의 속성 출력"
   ]
  },
  {
   "cell_type": "code",
   "execution_count": 1,
   "metadata": {
    "scrolled": false
   },
   "outputs": [
    {
     "name": "stdout",
     "output_type": "stream",
     "text": [
      "This is Text-Fabric 2.3.7\n",
      "Api reference : https://github.com/ETCBC/text-fabric/wiki/Api\n",
      "Tutorial      : https://github.com/ETCBC/text-fabric/blob/master/docs/tutorial.ipynb\n",
      "Data sources  : https://github.com/ETCBC/text-fabric-data\n",
      "Data docs     : https://etcbc.github.io/text-fabric-data\n",
      "Shebanq docs  : https://shebanq.ancient-data.org/text\n",
      "Slack team    : https://shebanq.slack.com/signup\n",
      "Questions? Ask shebanq@ancient-data.org for an invite to Slack\n",
      "111 features found and 0 ignored\n",
      "  0.00s loading features ...\n",
      "   |     0.06s B otype                from /home/kungsik/github/text-fabric-data/hebrew/etcbc4c\n",
      "   |     0.02s B book                 from /home/kungsik/github/text-fabric-data/hebrew/etcbc4c\n",
      "   |     0.01s B chapter              from /home/kungsik/github/text-fabric-data/hebrew/etcbc4c\n",
      "   |     0.01s B verse                from /home/kungsik/github/text-fabric-data/hebrew/etcbc4c\n",
      "   |     0.13s B g_cons_utf8          from /home/kungsik/github/text-fabric-data/hebrew/etcbc4c\n",
      "   |     0.17s B g_word_utf8          from /home/kungsik/github/text-fabric-data/hebrew/etcbc4c\n",
      "   |     0.15s B lex_utf8             from /home/kungsik/github/text-fabric-data/hebrew/etcbc4c\n",
      "   |     0.06s B trailer_utf8         from /home/kungsik/github/text-fabric-data/hebrew/etcbc4c\n",
      "   |     0.09s B sp                   from /home/kungsik/github/text-fabric-data/hebrew/etcbc4c\n",
      "   |     0.09s B nu                   from /home/kungsik/github/text-fabric-data/hebrew/etcbc4c\n",
      "   |     0.09s B gn                   from /home/kungsik/github/text-fabric-data/hebrew/etcbc4c\n",
      "   |     0.10s B ps                   from /home/kungsik/github/text-fabric-data/hebrew/etcbc4c\n",
      "   |     0.09s B vt                   from /home/kungsik/github/text-fabric-data/hebrew/etcbc4c\n",
      "   |     0.09s B vs                   from /home/kungsik/github/text-fabric-data/hebrew/etcbc4c\n",
      "   |     0.07s B st                   from /home/kungsik/github/text-fabric-data/hebrew/etcbc4c\n",
      "   |     0.13s B det                  from /home/kungsik/github/text-fabric-data/hebrew/etcbc4c\n",
      "   |     0.13s B lex                  from /home/kungsik/github/text-fabric-data/hebrew/etcbc4c\n",
      "   |     0.01s B voc_utf8             from /home/kungsik/github/text-fabric-data/hebrew/etcbc4c\n",
      "   |     0.11s B g_prs_utf8           from /home/kungsik/github/text-fabric-data/hebrew/etcbc4c\n",
      "   |     0.06s B g_uvf_utf8           from /home/kungsik/github/text-fabric-data/hebrew/etcbc4c\n",
      "   |     0.09s B prs_gn               from /home/kungsik/github/text-fabric-data/hebrew/etcbc4c\n",
      "   |     0.12s B prs_nu               from /home/kungsik/github/text-fabric-data/hebrew/etcbc4c\n",
      "   |     0.11s B prs_ps               from /home/kungsik/github/text-fabric-data/hebrew/etcbc4c\n",
      "   |     0.06s B gloss                from /home/kungsik/github/text-fabric-data/hebrew/etcbc4c\n",
      "   |     0.00s Feature overview: 104 for nodes; 5 for edges; 2 configs; 7 computed\n",
      "  5.72s All features loaded/computed - for details use loadLog()\n"
     ]
    }
   ],
   "source": [
    "from tf.fabric import Fabric\n",
    "\n",
    "ETCBC = 'hebrew/etcbc4c'\n",
    "PHONO = 'hebrew/phono'\n",
    "TF = Fabric( modules=[ETCBC, PHONO], silent=False )\n",
    "\n",
    "api = TF.load('''\n",
    "    book chapter verse\n",
    "    sp nu gn ps vt vs st\n",
    "    otype\n",
    "    det\n",
    "    g_word_utf8 trailer_utf8\n",
    "    lex_utf8 lex voc_utf8\n",
    "    g_prs_utf8 g_uvf_utf8\n",
    "    prs_gn prs_nu prs_ps g_cons_utf8\n",
    "    gloss\n",
    "''')"
   ]
  },
  {
   "cell_type": "code",
   "execution_count": 2,
   "metadata": {
    "collapsed": true
   },
   "outputs": [],
   "source": [
    "api.makeAvailableIn(globals())"
   ]
  },
  {
   "cell_type": "markdown",
   "metadata": {},
   "source": [
    "#### 창세기 1:1의 ברא 동사의 속성 출력 (ברא 동사는 3번 노드)"
   ]
  },
  {
   "cell_type": "code",
   "execution_count": 3,
   "metadata": {},
   "outputs": [
    {
     "data": {
      "text/plain": [
       "[1, 2, 3, 4, 5, 6, 7, 8, 9, 10, 11]"
      ]
     },
     "execution_count": 3,
     "metadata": {},
     "output_type": "execute_result"
    }
   ],
   "source": [
    "verseNode = T.nodeFromSection(('Genesis',1,1))\n",
    "wordsNode = L.d(verseNode, otype='word')\n",
    "wordsNode"
   ]
  },
  {
   "cell_type": "code",
   "execution_count": 4,
   "metadata": {},
   "outputs": [
    {
     "data": {
      "text/plain": [
       "{'g_cons_utf8': 'ברא',\n",
       " 'g_prs_utf8': '',\n",
       " 'g_uvf_utf8': '',\n",
       " 'gloss': 'create',\n",
       " 'gn': 'm',\n",
       " 'has_suffix': 'No',\n",
       " 'is_definite': 'NA',\n",
       " 'lex': 'BR>[',\n",
       " 'nu': 'sg',\n",
       " 'prs_gn': 'unknown',\n",
       " 'prs_nu': 'unknown',\n",
       " 'prs_ps': 'unknown',\n",
       " 'ps': 'p3',\n",
       " 'sp': 'verb',\n",
       " 'st': 'NA',\n",
       " 'tricons': 'ברא',\n",
       " 'voc_utf8': 'ברא',\n",
       " 'vs': 'qal',\n",
       " 'vt': 'perf'}"
      ]
     },
     "execution_count": 4,
     "metadata": {},
     "output_type": "execute_result"
    }
   ],
   "source": [
    "node = wordsNode[2]\n",
    "\n",
    "r = {\n",
    "    \"tricons\": F.lex_utf8.v(node).replace('=', '').replace('/','').replace('[',''),\n",
    "    \"lex\": F.lex.v(node),\n",
    "    \"voc_utf8\": F.voc_utf8.v(L.u(node, otype='lex')[0]),\n",
    "    \"sp\": F.sp.v(node),\n",
    "    \"ps\": F.ps.v(node),\n",
    "    \"nu\": F.nu.v(node),\n",
    "    \"gn\": F.gn.v(node),\n",
    "    \"vt\": F.vt.v(node), # vt = verbal tense\n",
    "    \"vs\": F.vs.v(node), # vs = verbal stem\n",
    "    \"st\": F.st.v(node), # construct/absolute/emphatic\n",
    "    \"is_definite\": F.det.v(L.u(node, otype='phrase_atom')[0]),\n",
    "    \"g_prs_utf8\": F.g_prs_utf8.v(node),\n",
    "    \"g_uvf_utf8\": F.g_uvf_utf8.v(node),\n",
    "    \"g_cons_utf8\": F.g_cons_utf8.v(node),\n",
    "    \"prs_nu\": F.prs_nu.v(node),\n",
    "    \"prs_gn\": F.prs_gn.v(node),\n",
    "    \"prs_ps\": F.prs_ps.v(node),\n",
    "    \"has_suffix\": \"Yes\" if F.g_prs_utf8.v(node) != \"\" else \"No\",\n",
    "    \"gloss\": F.gloss.v(L.u(node, otype='lex')[0]),\n",
    "}\n",
    "\n",
    "r"
   ]
  },
  {
   "cell_type": "code",
   "execution_count": null,
   "metadata": {
    "collapsed": true
   },
   "outputs": [],
   "source": []
  }
 ],
 "metadata": {
  "kernelspec": {
   "display_name": "Python 3",
   "language": "python",
   "name": "python3"
  },
  "language_info": {
   "codemirror_mode": {
    "name": "ipython",
    "version": 3
   },
   "file_extension": ".py",
   "mimetype": "text/x-python",
   "name": "python",
   "nbconvert_exporter": "python",
   "pygments_lexer": "ipython3",
   "version": "3.5.2"
  }
 },
 "nbformat": 4,
 "nbformat_minor": 2
}
