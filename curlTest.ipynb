{
 "cells": [
  {
   "cell_type": "code",
   "execution_count": 82,
   "metadata": {
    "collapsed": true
   },
   "outputs": [],
   "source": [
    "import pycurl\n",
    "from io import BytesIO"
   ]
  },
  {
   "cell_type": "code",
   "execution_count": 83,
   "metadata": {
    "collapsed": true
   },
   "outputs": [],
   "source": [
    "buffer = BytesIO()\n",
    "\n",
    "c = pycurl.Curl()\n",
    "c.setopt(c.URL, 'https://bibles.org/v2/chapters/kor-NKRV:1Cor.2/verses.js')\n",
    "c.setopt(c.USERNAME, \"ulFGLZXjUwQUWyuFGARJjydUNMNbURSqqGIjwqsX\")\n",
    "c.setopt(c.WRITEDATA, buffer)\n",
    "c.perform()\n",
    "c.close()\n",
    "\n",
    "body = buffer.getvalue()"
   ]
  },
  {
   "cell_type": "code",
   "execution_count": 84,
   "metadata": {},
   "outputs": [
    {
     "name": "stdout",
     "output_type": "stream",
     "text": [
      "{\"response\":{\"meta\":{\"fums\":\"<script>\\nvar _BAPI=_BAPI||{};\\nif(typeof(_BAPI.t)==='undefined'){\\ndocument.write('\\\\x3Cscript src=\\\"'+document.location.protocol+'\\/\\/d2ue49q0mum86x.cloudfront.net\\/include\\/fums.c.js\\\"\\\\x3E\\\\x3C\\/script\\\\x3E');}\\ndocument.write(\\\"\\\\x3Cscript\\\\x3E_BAPI.t('595f35e53173b2.33832778');\\\\x3C\\/script\\\\x3E\\\");\\n<\\/script><noscript><img src=\\\"https:\\/\\/d3a2okcloueqyx.cloudfront.net\\/nf1?t=595f35e53173b2.33832778\\\" height=\\\"1\\\" width=\\\"1\\\" border=\\\"0\\\" alt=\\\"\\\" style=\\\"height: 0; width: 0;\\\" \\/><\\/noscript>\",\"fums_tid\":\"595f35e53173b2.33832778\",\"fums_js_include\":\"d2ue49q0mum86x.cloudfront.net\\/include\\/fums.c.js\",\"fums_js\":\"var _BAPI=_BAPI||{};if(typeof(_BAPI.t)!='undefined'){ _BAPI.t('595f35e53173b2.33832778'); }\",\"fums_noscript\":\"<img src=\\\"https:\\/\\/d3a2okcloueqyx.cloudfront.net\\/nf1?t=595f35e53173b2.33832778\\\" height=\\\"1\\\" width=\\\"1\\\" border=\\\"0\\\" alt=\\\"\\\" style=\\\"height: 0; width: 0;\\\" \\/>\"}}}\n"
     ]
    }
   ],
   "source": [
    "print(body.decode('iso-8859-1'))"
   ]
  },
  {
   "cell_type": "code",
   "execution_count": null,
   "metadata": {
    "collapsed": true
   },
   "outputs": [],
   "source": []
  }
 ],
 "metadata": {
  "kernelspec": {
   "display_name": "Python 3",
   "language": "python",
   "name": "python3"
  },
  "language_info": {
   "codemirror_mode": {
    "name": "ipython",
    "version": 3
   },
   "file_extension": ".py",
   "mimetype": "text/x-python",
   "name": "python",
   "nbconvert_exporter": "python",
   "pygments_lexer": "ipython3",
   "version": "3.5.2"
  }
 },
 "nbformat": 4,
 "nbformat_minor": 2
}
