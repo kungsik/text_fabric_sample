{
 "cells": [
  {
   "cell_type": "code",
   "execution_count": 1,
   "metadata": {},
   "outputs": [
    {
     "name": "stdout",
     "output_type": "stream",
     "text": [
      "This is Text-Fabric 2.3.7\n",
      "Api reference : https://github.com/ETCBC/text-fabric/wiki/Api\n",
      "Tutorial      : https://github.com/ETCBC/text-fabric/blob/master/docs/tutorial.ipynb\n",
      "Data sources  : https://github.com/ETCBC/text-fabric-data\n",
      "Data docs     : https://etcbc.github.io/text-fabric-data\n",
      "Shebanq docs  : https://shebanq.ancient-data.org/text\n",
      "Slack team    : https://shebanq.slack.com/signup\n",
      "Questions? Ask shebanq@ancient-data.org for an invite to Slack\n",
      "111 features found and 0 ignored\n",
      "  0.00s loading features ...\n",
      "   |     0.03s B otype                from /home/kungsik/github/text-fabric-data/hebrew/etcbc4c\n",
      "   |     0.01s B book                 from /home/kungsik/github/text-fabric-data/hebrew/etcbc4c\n",
      "   |     0.01s B chapter              from /home/kungsik/github/text-fabric-data/hebrew/etcbc4c\n",
      "   |     0.00s B verse                from /home/kungsik/github/text-fabric-data/hebrew/etcbc4c\n",
      "   |     0.14s B lex_utf8             from /home/kungsik/github/text-fabric-data/hebrew/etcbc4c\n",
      "   |     0.10s B pdp                  from /home/kungsik/github/text-fabric-data/hebrew/etcbc4c\n",
      "   |     0.09s B gn                   from /home/kungsik/github/text-fabric-data/hebrew/etcbc4c\n",
      "   |     0.09s B nu                   from /home/kungsik/github/text-fabric-data/hebrew/etcbc4c\n",
      "   |     0.09s B ps                   from /home/kungsik/github/text-fabric-data/hebrew/etcbc4c\n",
      "   |     0.08s B st                   from /home/kungsik/github/text-fabric-data/hebrew/etcbc4c\n",
      "   |     0.10s B vs                   from /home/kungsik/github/text-fabric-data/hebrew/etcbc4c\n",
      "   |     0.10s B vt                   from /home/kungsik/github/text-fabric-data/hebrew/etcbc4c\n",
      "   |     0.06s B function             from /home/kungsik/github/text-fabric-data/hebrew/etcbc4c\n",
      "   |     0.16s B typ                  from /home/kungsik/github/text-fabric-data/hebrew/etcbc4c\n",
      "   |     0.02s B gloss                from /home/kungsik/github/text-fabric-data/hebrew/etcbc4c\n",
      "   |     0.01s Feature overview: 104 for nodes; 5 for edges; 2 configs; 7 computed\n",
      "  5.03s All features loaded/computed - for details use loadLog()\n"
     ]
    }
   ],
   "source": [
    "from tf.fabric import Fabric\n",
    "\n",
    "ETCBC = 'hebrew/etcbc4c'\n",
    "TF = Fabric( modules=ETCBC, silent=False )\n",
    "\n",
    "api = TF.load('''\n",
    "    book chapter verse\n",
    "    otype lex_utf8 \n",
    "    pdp \n",
    "    gn nu ps st vs vt \n",
    "    function typ gloss\n",
    "''')"
   ]
  },
  {
   "cell_type": "code",
   "execution_count": 2,
   "metadata": {
    "collapsed": true
   },
   "outputs": [],
   "source": [
    "api.makeAvailableIn(globals())"
   ]
  },
  {
   "cell_type": "code",
   "execution_count": 33,
   "metadata": {
    "collapsed": true
   },
   "outputs": [],
   "source": [
    "def countArgument(node):\n",
    "    countArg = 0\n",
    "    countArgDic = {}\n",
    "    for verseNode in node:\n",
    "        clauseNode = L.d(verseNode, otype = \"clause\")        \n",
    "        for cNode in clauseNode:\n",
    "            if F.typ.v(cNode) == 'InfC': continue        \n",
    "                \n",
    "            phraseNode = L.d(cNode, otype = \"phrase\")\n",
    "            for pNode in phraseNode:\n",
    "                if F.pdp.v(pNode) != 'conj' and F.function.v(pNode) != 'Pred' and F.function.v(pNode) != 'Nega':\n",
    "                    countArg = countArg + 1\n",
    "            if countArg in countArgDic:\n",
    "                countArgDic[countArg] = countArgDic[countArg] + 1\n",
    "            else:\n",
    "                countArgDic[countArg] = 1\n",
    "            countArg = 0\n",
    "    \n",
    "    return countArgDic"
   ]
  },
  {
   "cell_type": "code",
   "execution_count": 34,
   "metadata": {},
   "outputs": [
    {
     "data": {
      "text/plain": [
       "{0: 1, 1: 3, 2: 8, 3: 7, 4: 3, 5: 1}"
      ]
     },
     "execution_count": 34,
     "metadata": {},
     "output_type": "execute_result"
    }
   ],
   "source": [
    "countArgument(nodeList)"
   ]
  },
  {
   "cell_type": "code",
   "execution_count": 68,
   "metadata": {
    "collapsed": true
   },
   "outputs": [],
   "source": [
    "import collections\n"
   ]
  },
  {
   "cell_type": "code",
   "execution_count": 203,
   "metadata": {},
   "outputs": [],
   "source": [
    "#1001001-1002001; 2001001-2002001 ==> Genesis, 1, 1 ~ Genesis, 2, 1; + Exodus ... \n",
    "def codetorange(code):\n",
    "    bookList = [\"null\", \"Genesis\", \"Exodus\", \"Leviticus\", \"Numbers\", \"Deuteronomy\", \"Joshua\", \"Judges\", \n",
    "            \"1_Samuel\", \"2_Samuel\", \"1_Kings\", \"2_Kings\", \"Isaiah\", \"Jeremiah\", \"Ezekiel\", \n",
    "            \"Hosea\", \"Joel\", \"Amos\", \"Obadiah\", \"Jonah\", \"Micah\", \"Nahum\", \"Habakkuk\", \"Zephaniah\", \n",
    "            \"Haggai\", \"Zechariah\", \"Malachi\", \"Psalms\", \"Job\", \"Proverbs\", \"Ruth\", \"Song_of_songs\", \n",
    "            \"Ecclesiastes\", \"Lamentations\", \"Esther\", \"Daniel\", \"Ezra\", \"Nehemiah\", \"1_Chronicles\", \n",
    "            \"2_Chronicles\"]   \n",
    "    code = code.replace(\" \", \"\")\n",
    "    codeSplit1 = code.split(';')\n",
    "    nodeList = []\n",
    "    last = ''\n",
    "    for c1 in codeSplit1:\n",
    "        i = 0\n",
    "        codeSplit2 = c1.split('-')\n",
    "        for c2 in codeSplit2:\n",
    "            #book\n",
    "            if len(c2) == 7: \n",
    "                bookCodeList = int(c2[0])\n",
    "                bookCode = bookList[bookCodeList]\n",
    "            elif len(c2) == 8:\n",
    "                bookCodeList = int(c2[0] + c2[1])\n",
    "                bookCode = bookList[bookCodeList]\n",
    "            #chapter\n",
    "            chpCode = c2[-6] +  c2[-5] +  c2[-4]\n",
    "            chpCode = int(chpCode)\n",
    "            #verse\n",
    "            verseCode = c2[-3] +  c2[-2] +  c2[-1]\n",
    "            verseCode = int(verseCode)\n",
    "            \n",
    "            if i == 0:\n",
    "                first = T.nodeFromSection((bookCode, chpCode, verseCode))\n",
    "                i = 1\n",
    "            else:\n",
    "                last = T.nodeFromSection((bookCode, chpCode, verseCode))\n",
    "        if(last):\n",
    "            for n in range(first, last + 1):\n",
    "                nodeList.append(n)\n",
    "        else:\n",
    "            nodeList.append(first)\n",
    "    return nodeList"
   ]
  },
  {
   "cell_type": "code",
   "execution_count": 205,
   "metadata": {
    "scrolled": true
   },
   "outputs": [
    {
     "data": {
      "text/plain": [
       "[1413682, 1415215]"
      ]
     },
     "execution_count": 205,
     "metadata": {},
     "output_type": "execute_result"
    }
   ],
   "source": [
    "code = \"1001001; 2001001\"\n",
    "codetorange(code)"
   ]
  },
  {
   "cell_type": "code",
   "execution_count": 206,
   "metadata": {
    "collapsed": true
   },
   "outputs": [],
   "source": [
    "def featureStat1(node, synType, feat, num):\n",
    "    statType = {}\n",
    "    for verseNode in node:\n",
    "        statNode = L.d(verseNode, otype = synType)\n",
    "        for n in statNode:\n",
    "            if feat == 'lex_utf8': sType = F.lex_utf8.v(L.u(n, otype='lex')[0])\n",
    "            elif feat == 'pdp': sType = F.pdp.v(n)\n",
    "            elif feat == 'psgnnu':\n",
    "                sType = F.ps.v(n) + \"-\" + F.gn.v(n) + \"-\" + F.nu.v(n)\n",
    "                if sType == 'NA-NA-NA': continue\n",
    "                sType = sType.replace(\"NA-\", \"\")\n",
    "                sType = sType.replace(\"NA\", \"\")\n",
    "                sType = sType.replace(\"unknown-\", \"\")\n",
    "                sType = sType.replace(\"unknown\", \"\")\n",
    "                if sType == '': continue\n",
    "            elif feat == 'st': sType = F.st.v(n)\n",
    "            elif feat == 'vs': sType = F.vs.v(n)\n",
    "            elif feat == 'vt': sType = F.vt.v(n)\n",
    "            elif feat == 'function': sType = F.function.v(n)\n",
    "            elif feat == 'typ': sType = F.typ.v(n)\n",
    "            elif feat == 'gloss': sType = F.gloss.v(L.u(n, otype='lex')[0])\n",
    "            #단어와 관련된 통계는 유의미하지 않은 요소 제거\n",
    "            if feat == 'lex_utf8' or feat == 'gloss':\n",
    "                if F.pdp.v(n) == 'prep': continue\n",
    "                elif F.pdp.v(n)  == 'conj': continue\n",
    "                elif F.pdp.v(n) == 'art': continue\n",
    "                elif F.pdp.v(n) == 'nega': continue\n",
    "            #키값이 있으면 기존의 키 값에 1을 더하고, 키값이 없으면 새로운 키를 생성하고 1을 부여함.\n",
    "            if sType in statType:\n",
    "                statType[sType] = statType[sType] + 1\n",
    "            else:\n",
    "                statType[sType] = 1\n",
    "    sortedKey = sorted(statType, key=statType.__getitem__, reverse=True)\n",
    "    i = 1\n",
    "    result = collections.OrderedDict({})\n",
    "    for k in sortedKey:\n",
    "        result[k] = str(statType[k])\n",
    "        i = i + 1\n",
    "        if i > num: break\n",
    "    return result\n"
   ]
  },
  {
   "cell_type": "code",
   "execution_count": null,
   "metadata": {
    "collapsed": true
   },
   "outputs": [],
   "source": [
    "def featureStat1(node, synType, feat, num):\n",
    "    statType = {}\n",
    "    for verseNode in node:\n",
    "        statNode = L.d(verseNode, otype = synType)\n",
    "        for n in statNode:\n",
    "            if feat == 'lex_utf8': sType = F.lex_utf8.v(L.u(n, otype='lex')[0])\n",
    "            elif feat == 'pdp': sType = F.pdp.v(n)\n",
    "            elif feat == 'psgnnu':\n",
    "                sType = F.ps.v(n) + \"-\" + F.gn.v(n) + \"-\" + F.nu.v(n)\n",
    "                if sType == 'NA-NA-NA': continue\n",
    "                sType = sType.replace(\"NA-\", \"\")\n",
    "                sType = sType.replace(\"NA\", \"\")\n",
    "                sType = sType.replace(\"unknown-\", \"\")\n",
    "                sType = sType.replace(\"unknown\", \"\")\n",
    "                if sType == '': continue\n",
    "            elif feat == 'st': sType = F.st.v(n)\n",
    "            elif feat == 'vs': sType = F.vs.v(n)\n",
    "            elif feat == 'vt': sType = F.vt.v(n)\n",
    "            elif feat == 'function': sType = F.function.v(n)\n",
    "            elif feat == 'typ': sType = F.typ.v(n)\n",
    "            elif feat == 'gloss': sType = F.gloss.v(L.u(n, otype='lex')[0])\n",
    "            #단어와 관련된 통계는 유의미하지 않은 요소 제거\n",
    "            if feat == 'lex_utf8' or feat == 'gloss':\n",
    "                if F.pdp.v(n) == 'prep': continue\n",
    "                elif F.pdp.v(n)  == 'conj': continue\n",
    "                elif F.pdp.v(n) == 'art': continue\n",
    "                elif F.pdp.v(n) == 'nega': continue\n",
    "            #키값이 있으면 기존의 키 값에 1을 더하고, 키값이 없으면 새로운 키를 생성하고 1을 부여함.\n",
    "            if sType in statType:\n",
    "                statType[sType] = statType[sType] + 1\n",
    "            else:\n",
    "                statType[sType] = 1\n",
    "    sortedKey = sorted(statType, key=statType.__getitem__, reverse=True)\n",
    "    i = 1\n",
    "    result = collections.OrderedDict({})\n",
    "    for k in sortedKey:\n",
    "        result[k] = str(statType[k])\n",
    "        i = i + 1\n",
    "        if i > num: break\n",
    "    return result\n"
   ]
  }
 ],
 "metadata": {
  "kernelspec": {
   "display_name": "Python 3",
   "language": "python",
   "name": "python3"
  },
  "language_info": {
   "codemirror_mode": {
    "name": "ipython",
    "version": 3
   },
   "file_extension": ".py",
   "mimetype": "text/x-python",
   "name": "python",
   "nbconvert_exporter": "python",
   "pygments_lexer": "ipython3",
   "version": "3.5.2"
  }
 },
 "nbformat": 4,
 "nbformat_minor": 2
}
