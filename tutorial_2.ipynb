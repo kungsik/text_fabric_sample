{
 "cells": [
  {
   "cell_type": "markdown",
   "metadata": {},
   "source": [
    "## Text-Fabric Api 활용예제 2"
   ]
  },
  {
   "cell_type": "code",
   "execution_count": 1,
   "metadata": {},
   "outputs": [
    {
     "name": "stdout",
     "output_type": "stream",
     "text": [
      "This is Text-Fabric 2.3.7\n",
      "Api reference : https://github.com/ETCBC/text-fabric/wiki/Api\n",
      "Tutorial      : https://github.com/ETCBC/text-fabric/blob/master/docs/tutorial.ipynb\n",
      "Data sources  : https://github.com/ETCBC/text-fabric-data\n",
      "Data docs     : https://etcbc.github.io/text-fabric-data\n",
      "Shebanq docs  : https://shebanq.ancient-data.org/text\n",
      "Slack team    : https://shebanq.slack.com/signup\n",
      "Questions? Ask shebanq@ancient-data.org for an invite to Slack\n",
      "111 features found and 0 ignored\n",
      "  0.00s loading features ...\n",
      "   |     0.02s B otype                from /home/kungsik/github/text-fabric-data/hebrew/etcbc4c\n",
      "   |     0.00s B book                 from /home/kungsik/github/text-fabric-data/hebrew/etcbc4c\n",
      "   |     0.00s B chapter              from /home/kungsik/github/text-fabric-data/hebrew/etcbc4c\n",
      "   |     0.00s B verse                from /home/kungsik/github/text-fabric-data/hebrew/etcbc4c\n",
      "   |     0.14s B g_cons_utf8          from /home/kungsik/github/text-fabric-data/hebrew/etcbc4c\n",
      "   |     0.15s B g_word_utf8          from /home/kungsik/github/text-fabric-data/hebrew/etcbc4c\n",
      "   |     0.13s B lex_utf8             from /home/kungsik/github/text-fabric-data/hebrew/etcbc4c\n",
      "   |     0.06s B trailer_utf8         from /home/kungsik/github/text-fabric-data/hebrew/etcbc4c\n",
      "   |     0.08s B sp                   from /home/kungsik/github/text-fabric-data/hebrew/etcbc4c\n",
      "   |     0.08s B nu                   from /home/kungsik/github/text-fabric-data/hebrew/etcbc4c\n",
      "   |     0.07s B gn                   from /home/kungsik/github/text-fabric-data/hebrew/etcbc4c\n",
      "   |     0.08s B ps                   from /home/kungsik/github/text-fabric-data/hebrew/etcbc4c\n",
      "   |     0.08s B vt                   from /home/kungsik/github/text-fabric-data/hebrew/etcbc4c\n",
      "   |     0.08s B vs                   from /home/kungsik/github/text-fabric-data/hebrew/etcbc4c\n",
      "   |     0.07s B st                   from /home/kungsik/github/text-fabric-data/hebrew/etcbc4c\n",
      "   |     0.10s B det                  from /home/kungsik/github/text-fabric-data/hebrew/etcbc4c\n",
      "   |     0.09s B lex                  from /home/kungsik/github/text-fabric-data/hebrew/etcbc4c\n",
      "   |     0.00s B voc_utf8             from /home/kungsik/github/text-fabric-data/hebrew/etcbc4c\n",
      "   |     0.06s B g_prs_utf8           from /home/kungsik/github/text-fabric-data/hebrew/etcbc4c\n",
      "   |     0.05s B g_uvf_utf8           from /home/kungsik/github/text-fabric-data/hebrew/etcbc4c\n",
      "   |     0.09s B prs_gn               from /home/kungsik/github/text-fabric-data/hebrew/etcbc4c\n",
      "   |     0.09s B prs_nu               from /home/kungsik/github/text-fabric-data/hebrew/etcbc4c\n",
      "   |     0.09s B prs_ps               from /home/kungsik/github/text-fabric-data/hebrew/etcbc4c\n",
      "   |     0.00s B gloss                from /home/kungsik/github/text-fabric-data/hebrew/etcbc4c\n",
      "   |     0.00s Feature overview: 104 for nodes; 5 for edges; 2 configs; 7 computed\n",
      "  4.68s All features loaded/computed - for details use loadLog()\n"
     ]
    }
   ],
   "source": [
    "from tf.fabric import Fabric\n",
    "\n",
    "ETCBC = 'hebrew/etcbc4c'\n",
    "PHONO = 'hebrew/phono'\n",
    "TF = Fabric( modules=[ETCBC, PHONO], silent=False )\n",
    "\n",
    "api = TF.load('''\n",
    "    book chapter verse\n",
    "    sp nu gn ps vt vs st\n",
    "    otype\n",
    "    det\n",
    "    g_word_utf8 trailer_utf8\n",
    "    lex_utf8 lex voc_utf8\n",
    "    g_prs_utf8 g_uvf_utf8\n",
    "    prs_gn prs_nu prs_ps g_cons_utf8\n",
    "    gloss \n",
    "''')"
   ]
  },
  {
   "cell_type": "code",
   "execution_count": 2,
   "metadata": {
    "collapsed": true
   },
   "outputs": [],
   "source": [
    "api.makeAvailableIn(globals())"
   ]
  },
  {
   "cell_type": "markdown",
   "metadata": {},
   "source": [
    "#### 창세기 1:1의 node 값을 출력. 아래는 히브리어 텍스트로 출력"
   ]
  },
  {
   "cell_type": "code",
   "execution_count": 3,
   "metadata": {},
   "outputs": [
    {
     "name": "stdout",
     "output_type": "stream",
     "text": [
      "[1, 2, 3, 4, 5, 6, 7, 8, 9, 10, 11]\n"
     ]
    }
   ],
   "source": [
    "verseNode = T.nodeFromSection(('Genesis', 1, 1))\n",
    "wordsNode = L.d(verseNode, otype='word')\n",
    "print(wordsNode)"
   ]
  },
  {
   "cell_type": "code",
   "execution_count": 4,
   "metadata": {},
   "outputs": [
    {
     "name": "stdout",
     "output_type": "stream",
     "text": [
      "בְּרֵאשִׁ֖ית בָּרָ֣א אֱלֹהִ֑ים אֵ֥ת הַשָּׁמַ֖יִם וְאֵ֥ת הָאָֽרֶץ׃ \n"
     ]
    }
   ],
   "source": [
    "print(T.text(wordsNode))"
   ]
  },
  {
   "cell_type": "markdown",
   "metadata": {},
   "source": [
    "#### 창세기 1:1의 두번째 node(두번째 단어)의 히브리어 자음 값을 불러옴"
   ]
  },
  {
   "cell_type": "code",
   "execution_count": 5,
   "metadata": {},
   "outputs": [
    {
     "name": "stdout",
     "output_type": "stream",
     "text": [
      "ראשׁית\n"
     ]
    }
   ],
   "source": [
    "print(F.g_cons_utf8.v(wordsNode[1]))"
   ]
  },
  {
   "cell_type": "markdown",
   "metadata": {},
   "source": [
    "#### 창세기 1:1의 두번째 node의 의미(gloss) 값을 불러옴"
   ]
  },
  {
   "cell_type": "code",
   "execution_count": 6,
   "metadata": {},
   "outputs": [
    {
     "name": "stdout",
     "output_type": "stream",
     "text": [
      "beginning\n"
     ]
    }
   ],
   "source": [
    "print(F.gloss.v(L.u(wordsNode[1], otype='lex')[0]))"
   ]
  },
  {
   "cell_type": "markdown",
   "metadata": {},
   "source": [
    "#### 창세기 책 전체 node를 선택하고 마지막 슬롯의 텍스트 범위를 불러옴."
   ]
  },
  {
   "cell_type": "code",
   "execution_count": 7,
   "metadata": {},
   "outputs": [
    {
     "name": "stdout",
     "output_type": "stream",
     "text": [
      "('Genesis', 50, 26)\n"
     ]
    }
   ],
   "source": [
    "chpNode = T.nodeFromSection(('Genesis',))\n",
    "l_ref = T.sectionFromNode(chpNode, lastSlot=True)\n",
    "print(l_ref)"
   ]
  },
  {
   "cell_type": "markdown",
   "metadata": {},
   "source": [
    "#### 아무런 참조값을 주지 않으면 첫번째 슬롯을 불러옴."
   ]
  },
  {
   "cell_type": "code",
   "execution_count": 8,
   "metadata": {},
   "outputs": [
    {
     "name": "stdout",
     "output_type": "stream",
     "text": [
      "('Genesis', 1, 1)\n"
     ]
    }
   ],
   "source": [
    "f_ref = T.sectionFromNode(chpNode)\n",
    "print(f_ref)"
   ]
  },
  {
   "cell_type": "code",
   "execution_count": null,
   "metadata": {
    "collapsed": true
   },
   "outputs": [],
   "source": []
  }
 ],
 "metadata": {
  "kernelspec": {
   "display_name": "Python 3",
   "language": "python",
   "name": "python3"
  },
  "language_info": {
   "codemirror_mode": {
    "name": "ipython",
    "version": 3
   },
   "file_extension": ".py",
   "mimetype": "text/x-python",
   "name": "python",
   "nbconvert_exporter": "python",
   "pygments_lexer": "ipython3",
   "version": "3.5.2"
  }
 },
 "nbformat": 4,
 "nbformat_minor": 2
}
