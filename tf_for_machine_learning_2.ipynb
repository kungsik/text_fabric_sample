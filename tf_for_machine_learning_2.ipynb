{
 "cells": [
  {
   "cell_type": "code",
   "execution_count": 1,
   "metadata": {},
   "outputs": [
    {
     "name": "stdout",
     "output_type": "stream",
     "text": [
      "This is Text-Fabric 2.3.7\n",
      "Api reference : https://github.com/ETCBC/text-fabric/wiki/Api\n",
      "Tutorial      : https://github.com/ETCBC/text-fabric/blob/master/docs/tutorial.ipynb\n",
      "Data sources  : https://github.com/ETCBC/text-fabric-data\n",
      "Data docs     : https://etcbc.github.io/text-fabric-data\n",
      "Shebanq docs  : https://shebanq.ancient-data.org/text\n",
      "Slack team    : https://shebanq.slack.com/signup\n",
      "Questions? Ask shebanq@ancient-data.org for an invite to Slack\n",
      "111 features found and 0 ignored\n",
      "  0.00s loading features ...\n",
      "   |     0.03s B otype                from /home/kungsik/github/text-fabric-data/hebrew/etcbc4c\n",
      "   |     7.66s T oslots               from /home/kungsik/github/text-fabric-data/hebrew/etcbc4c\n",
      "   |     0.01s B book                 from /home/kungsik/github/text-fabric-data/hebrew/etcbc4c\n",
      "   |     0.01s B chapter              from /home/kungsik/github/text-fabric-data/hebrew/etcbc4c\n",
      "   |     0.00s B verse                from /home/kungsik/github/text-fabric-data/hebrew/etcbc4c\n",
      "   |     0.14s B lex_utf8             from /home/kungsik/github/text-fabric-data/hebrew/etcbc4c\n",
      "   |      |     0.85s C __levels__           from otype, oslots\n",
      "   |      |       12s C __order__            from otype, oslots, __levels__\n",
      "   |      |     0.66s C __rank__             from otype, __order__\n",
      "   |      |       16s C __levUp__            from otype, oslots, __rank__\n",
      "   |      |     8.88s C __levDown__          from otype, __levUp__, __rank__\n",
      "   |      |     3.28s C __boundary__         from otype, oslots, __rank__\n",
      "   |     0.00s M otext                from /home/kungsik/github/text-fabric-data/hebrew/etcbc4c\n",
      "   |      |     0.10s C __sections__         from otype, oslots, otext, __levUp__, __levels__, book, chapter, verse\n",
      "   |     1.04s T pdp                  from /home/kungsik/github/text-fabric-data/hebrew/etcbc4c\n",
      "   |     0.09s B gn                   from /home/kungsik/github/text-fabric-data/hebrew/etcbc4c\n",
      "   |     0.11s B nu                   from /home/kungsik/github/text-fabric-data/hebrew/etcbc4c\n",
      "   |     0.09s B ps                   from /home/kungsik/github/text-fabric-data/hebrew/etcbc4c\n",
      "   |     0.09s B st                   from /home/kungsik/github/text-fabric-data/hebrew/etcbc4c\n",
      "   |     0.10s B vs                   from /home/kungsik/github/text-fabric-data/hebrew/etcbc4c\n",
      "   |     0.10s B vt                   from /home/kungsik/github/text-fabric-data/hebrew/etcbc4c\n",
      "   |     0.63s T function             from /home/kungsik/github/text-fabric-data/hebrew/etcbc4c\n",
      "   |     0.17s B typ                  from /home/kungsik/github/text-fabric-data/hebrew/etcbc4c\n",
      "   |     0.01s B gloss                from /home/kungsik/github/text-fabric-data/hebrew/etcbc4c\n",
      "   |     0.00s Feature overview: 104 for nodes; 5 for edges; 2 configs; 7 computed\n",
      "    54s All features loaded/computed - for details use loadLog()\n"
     ]
    }
   ],
   "source": [
    "from tf.fabric import Fabric\n",
    "\n",
    "ETCBC = 'hebrew/etcbc4c'\n",
    "TF = Fabric( modules=ETCBC, silent=False )\n",
    "\n",
    "api = TF.load('''\n",
    "    book chapter verse\n",
    "    otype lex_utf8 \n",
    "    pdp \n",
    "    gn nu ps st vs vt \n",
    "    function typ gloss\n",
    "''')"
   ]
  },
  {
   "cell_type": "code",
   "execution_count": 2,
   "metadata": {
    "collapsed": true
   },
   "outputs": [],
   "source": [
    "api.makeAvailableIn(globals())"
   ]
  },
  {
   "cell_type": "code",
   "execution_count": 39,
   "metadata": {},
   "outputs": [
    {
     "data": {
      "text/plain": [
       "1367534"
      ]
     },
     "execution_count": 39,
     "metadata": {},
     "output_type": "execute_result"
    }
   ],
   "source": [
    "chpNode = T.nodeFromSection(('Genesis',))\n",
    "chpNode"
   ]
  },
  {
   "cell_type": "code",
   "execution_count": 83,
   "metadata": {},
   "outputs": [],
   "source": [
    "#node: 범위값, synType: clause, phrase, word, feat: 문법요소, num: 상위 몇개까지 줄력할지.\n",
    "def featureStat(node, synType, feat, num):\n",
    "    statNode = L.d(node, otype = synType)\n",
    "    statType = {}\n",
    "    \n",
    "    for n in statNode:\n",
    "        if feat == 'lex_utf8': sType = F.lex_utf8.v(L.u(n, otype='lex')[0])\n",
    "        elif feat == 'pdp': sType = F.pdp.v(n)\n",
    "        elif feat == 'gn': sType = F.gn.v(n)\n",
    "        elif feat == 'nu': sType = F.nu.v(n)\n",
    "        elif feat == 'ps': sType = F.ps.v(n)\n",
    "        elif feat == 'st': sType = F.st.v(n)\n",
    "        elif feat == 'vs': sType = F.vs.v(n)\n",
    "        elif feat == 'vt': sType = F.vt.v(n)\n",
    "        elif feat == 'function': sType = F.function.v(n)\n",
    "        elif feat == 'typ': sType = F.typ.v(n)\n",
    "        elif feat == 'gloss': sType = F.gloss.v(L.u(n, otype='lex')[0])\n",
    "        \n",
    "        #단어와 관련된 통계는 유의미하지 않은 요소 제거\n",
    "        if feat == 'lex_utf8' or feat == 'gloss':\n",
    "            if F.pdp.v(n) == 'prep': continue\n",
    "            elif F.pdp.v(n)  == 'conj': continue\n",
    "            elif F.pdp.v(n) == 'art': continue\n",
    "            elif F.pdp.v(n) == 'nega': continue\n",
    "            \n",
    "        #키값이 있으면 기존의 키 값에 1을 더하고, 키값이 없으면 새로운 키를 생성하고 1을 부여함.\n",
    "        if sType in statType:\n",
    "            statType[sType] = statType[sType] + 1        \n",
    "        else:\n",
    "            statType[sType] = 1\n",
    "\n",
    "    sortedKey = sorted(statType, key=statType.__getitem__, reverse=True)\n",
    "    \n",
    "    i = 1\n",
    "\n",
    "    for k in sortedKey:\n",
    "        print(str(i) + \". \" + k + \":\" + str(statType[k]))\n",
    "        i = i + 1\n",
    "        if i > num: break"
   ]
  },
  {
   "cell_type": "code",
   "execution_count": 88,
   "metadata": {},
   "outputs": [
    {
     "name": "stdout",
     "output_type": "stream",
     "text": [
      "1. Pred:4261\n",
      "2. Conj:3736\n",
      "3. Subj:2307\n",
      "4. Cmpl:2211\n",
      "5. Objc:1580\n",
      "6. PreC:1193\n",
      "7. Rela:413\n",
      "8. Adju:355\n",
      "9. PreO:293\n",
      "10. Time:271\n"
     ]
    }
   ],
   "source": [
    "featureStat(chpNode, \"phrase\", \"function\", 10)"
   ]
  },
  {
   "cell_type": "code",
   "execution_count": 84,
   "metadata": {},
   "outputs": [
    {
     "name": "stdout",
     "output_type": "stream",
     "text": [
      "1. אמר:607\n",
      "2. בנ:365\n",
      "3. כל:342\n",
      "4. היה:316\n",
      "5. ארצ:311\n",
      "6. שׁמ:228\n",
      "7. אלהימ:219\n",
      "8. בוא:217\n",
      "9. אב:208\n",
      "10. ילד:189\n"
     ]
    }
   ],
   "source": [
    "featureStat(chpNode, \"word\", \"lex_utf8\", 10)"
   ]
  },
  {
   "cell_type": "code",
   "execution_count": 91,
   "metadata": {
    "collapsed": true
   },
   "outputs": [],
   "source": [
    "#전치사 사용 통계\n",
    "def prepStat(node, num):\n",
    "    statNode = L.d(node, otype = 'word')\n",
    "    prep = {}\n",
    "    for n in statNode:\n",
    "        if F.pdp.v(n) == 'prep':\n",
    "            sPrep = F.lex_utf8.v(L.u(n, otype='lex')[0])\n",
    "            if sPrep in prep:\n",
    "                prep[sPrep] = prep[sPrep] + 1        \n",
    "            else:\n",
    "                prep[sPrep] = 1\n",
    "    \n",
    "    sortedKey = sorted(prep, key=prep.__getitem__, reverse=True)\n",
    "    \n",
    "    i = 1\n",
    "\n",
    "    for k in sortedKey:\n",
    "        print(str(i) + \". \" + k + \":\" + str(prep[k]))\n",
    "        i = i + 1\n",
    "        if i > num: break"
   ]
  },
  {
   "cell_type": "code",
   "execution_count": 92,
   "metadata": {},
   "outputs": [
    {
     "name": "stdout",
     "output_type": "stream",
     "text": [
      "1. ל:1335\n",
      "2. את:1147\n",
      "3. ב:825\n",
      "4. אל:475\n",
      "5. מנ:433\n",
      "6. על:304\n",
      "7. כ:141\n",
      "8. עמ:83\n",
      "9. אחר:77\n",
      "10. בינ:75\n"
     ]
    }
   ],
   "source": [
    "prepStat(chpNode, 10)"
   ]
  },
  {
   "cell_type": "code",
   "execution_count": null,
   "metadata": {
    "collapsed": true
   },
   "outputs": [],
   "source": []
  }
 ],
 "metadata": {
  "kernelspec": {
   "display_name": "Python 3",
   "language": "python",
   "name": "python3"
  },
  "language_info": {
   "codemirror_mode": {
    "name": "ipython",
    "version": 3
   },
   "file_extension": ".py",
   "mimetype": "text/x-python",
   "name": "python",
   "nbconvert_exporter": "python",
   "pygments_lexer": "ipython3",
   "version": "3.5.2"
  }
 },
 "nbformat": 4,
 "nbformat_minor": 2
}
